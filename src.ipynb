{
  "nbformat": 4,
  "nbformat_minor": 0,
  "metadata": {
    "colab": {
      "provenance": [],
      "authorship_tag": "ABX9TyNC8Qw6+NsNyQ4VxQCMhZGt",
      "include_colab_link": true
    },
    "kernelspec": {
      "name": "python3",
      "display_name": "Python 3"
    },
    "language_info": {
      "name": "python"
    }
  },
  "cells": [
    {
      "cell_type": "markdown",
      "metadata": {
        "id": "view-in-github",
        "colab_type": "text"
      },
      "source": [
        "<a href=\"https://colab.research.google.com/github/Trishvan/Waiter_tip_Predection/blob/main/src.ipynb\" target=\"_parent\"><img src=\"https://colab.research.google.com/assets/colab-badge.svg\" alt=\"Open In Colab\"/></a>"
      ]
    },
    {
      "cell_type": "code",
      "execution_count": null,
      "metadata": {
        "id": "_xpQZBxD8vEP"
      },
      "outputs": [],
      "source": [
        "#importing libriaries\n",
        "import numpy as np\n",
        "import pandas as pd\n",
        "import seaborn as sb\n",
        "import matplotlib.pyplot as plt\n",
        "\n",
        "from sklearn.metrics import mean_absolute_error as mae\n",
        "from sklearn.model_selection import train_test_split\n",
        "from sklearn.preprocessing import StandardScaler, LabelEncoder\n",
        "from sklearn.linear_model import LinearRegression\n",
        "from xgboost import XGBRegressor\n",
        "from sklearn.ensemble import RandomForestRegressor, AdaBoostRegressor\n",
        "\n",
        "import warnings\n",
        "warnings.filterwarnings('ignore')\n"
      ]
    },
    {
      "cell_type": "markdown",
      "source": [
        "# **Acquisition and cleaning**"
      ],
      "metadata": {
        "id": "vcVFfnmA9AOW"
      }
    },
    {
      "cell_type": "code",
      "source": [],
      "metadata": {
        "id": "RMpykloj8-Gg"
      },
      "execution_count": null,
      "outputs": []
    },
    {
      "cell_type": "markdown",
      "source": [
        "# **Exploratory Data Analysis**"
      ],
      "metadata": {
        "id": "jVDQl09s9fs_"
      }
    },
    {
      "cell_type": "code",
      "source": [],
      "metadata": {
        "id": "2him_KZq-YTh"
      },
      "execution_count": null,
      "outputs": []
    },
    {
      "cell_type": "markdown",
      "source": [
        "# **Feature engineering and selection**"
      ],
      "metadata": {
        "id": "YlX-SUIy-avr"
      }
    },
    {
      "cell_type": "code",
      "source": [],
      "metadata": {
        "id": "HAqh5-BO-yXI"
      },
      "execution_count": null,
      "outputs": []
    },
    {
      "cell_type": "markdown",
      "source": [
        "# **Model selection and Training**"
      ],
      "metadata": {
        "id": "swIZPiIq-zir"
      }
    },
    {
      "cell_type": "code",
      "source": [],
      "metadata": {
        "id": "a0vKuLhY_BA6"
      },
      "execution_count": null,
      "outputs": []
    },
    {
      "cell_type": "markdown",
      "source": [
        "# **Model Evaluation and Comparison**"
      ],
      "metadata": {
        "id": "xdss40xJ_Bub"
      }
    },
    {
      "cell_type": "code",
      "source": [],
      "metadata": {
        "id": "J07zShtP_PhP"
      },
      "execution_count": null,
      "outputs": []
    }
  ]
}